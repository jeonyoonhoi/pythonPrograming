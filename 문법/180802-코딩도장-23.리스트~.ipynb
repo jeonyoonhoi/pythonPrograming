{
 "cells": [
  {
   "cell_type": "markdown",
   "metadata": {},
   "source": [
    "# Unit 23 리스트와 튜플 응용하기"
   ]
  },
  {
   "cell_type": "markdown",
   "metadata": {},
   "source": [
    "리스트는 메서드를 사용하지 않고, 인덱스로 범위를 지정하여 조작할 수도 있습니다. \n",
    "다음은 리스트의 맨 뒤에 값이 한 개 들어있는 리스트를 추가합니다. \n",
    "\n",
    "시작 인덱스를 len(a)로 지정해서 마지막 인덱스보다 1이 더 큰상태\n",
    "즉, 리스트의 맨 뒤부터 시작하겠다는 뜻이다. \n",
    "이때는 리스트의 범위를 벗어난 인덱스를 사용할 수 있다. \n",
    "a.append(10) 과 동일하다. "
   ]
  },
  {
   "cell_type": "code",
   "execution_count": 1,
   "metadata": {},
   "outputs": [
    {
     "data": {
      "text/plain": [
       "[10, 20, 30, 10]"
      ]
     },
     "execution_count": 1,
     "metadata": {},
     "output_type": "execute_result"
    }
   ],
   "source": [
    "a = [10, 20, 30]\n",
    "a[len(a):] = [10]\n",
    "a"
   ]
  },
  {
   "cell_type": "markdown",
   "metadata": {},
   "source": [
    "### 23.2 리스트의 할당과 복사 "
   ]
  },
  {
   "cell_type": "markdown",
   "metadata": {},
   "source": [
    "리스트의 할당 : b = a\n",
    "- 실제 리스트는 하나 a,b는 동일한 리스트를 가리킴\n",
    "\n",
    "리스트의 복사 = b = a.copy()\n",
    "- 말 그대로 복사본, 서로 다른 리스트를 가짐"
   ]
  },
  {
   "cell_type": "markdown",
   "metadata": {},
   "source": [
    "#### for에서 인덱스와 요수 둘 다 가져오기"
   ]
  },
  {
   "cell_type": "code",
   "execution_count": 2,
   "metadata": {},
   "outputs": [
    {
     "name": "stdout",
     "output_type": "stream",
     "text": [
      "0 4\n",
      "1 3\n",
      "2 77\n",
      "3 5\n",
      "4 100\n"
     ]
    }
   ],
   "source": [
    "a=[4,3,77,5,100]\n",
    " \n",
    "for i, v in enumerate(a):\n",
    "    print(i, v)"
   ]
  },
  {
   "cell_type": "markdown",
   "metadata": {},
   "source": [
    "#### in 연산자\n",
    "- v in a\n",
    "- v not in a"
   ]
  },
  {
   "cell_type": "code",
   "execution_count": 5,
   "metadata": {},
   "outputs": [
    {
     "name": "stdout",
     "output_type": "stream",
     "text": [
      "True\n",
      "False\n"
     ]
    }
   ],
   "source": [
    "print(3 in a)\n",
    "print(4 not in a)"
   ]
  },
  {
   "cell_type": "markdown",
   "metadata": {},
   "source": [
    "### 리스트 표현식 사용하기(List Comprehension)"
   ]
  },
  {
   "cell_type": "markdown",
   "metadata": {},
   "source": [
    "- 리스트 안에 식, for 반복문 등을 지정하여 리스트를 생성하는 것 \n",
    "\n",
    "- [식 for 변수 in 리스트]\n",
    "- list(식 for 변수 in 리스트)\n",
    "\n",
    "<img src = 'https://dojang.io/pluginfile.php/5216/mod_page/content/2/023002.png'>"
   ]
  },
  {
   "cell_type": "code",
   "execution_count": 6,
   "metadata": {},
   "outputs": [
    {
     "data": {
      "text/plain": [
       "[0, 3, 6, 9, 12, 15, 18, 21, 24, 27]"
      ]
     },
     "execution_count": 6,
     "metadata": {},
     "output_type": "execute_result"
    }
   ],
   "source": [
    "a= [i*3 for i in range(10)]\n",
    "a"
   ]
  },
  {
   "cell_type": "code",
   "execution_count": 7,
   "metadata": {},
   "outputs": [
    {
     "data": {
      "text/plain": [
       "[0, 1, 2, 3, 4, 5, 6, 7, 8, 9]"
      ]
     },
     "execution_count": 7,
     "metadata": {},
     "output_type": "execute_result"
    }
   ],
   "source": [
    "b = list(i for i in range(10))\n",
    "b"
   ]
  },
  {
   "cell_type": "code",
   "execution_count": 8,
   "metadata": {},
   "outputs": [
    {
     "data": {
      "text/plain": [
       "[6, 8, 10, 12, 14]"
      ]
     },
     "execution_count": 8,
     "metadata": {},
     "output_type": "execute_result"
    }
   ],
   "source": [
    "b = [i+5 for i in range(10) if i %2 ==1]\n",
    "# 0이상 10미만의 범위에서 i가 홀수일 때 i+5 를 하여 리스트 생성 \n",
    "b"
   ]
  },
  {
   "cell_type": "markdown",
   "metadata": {},
   "source": [
    "### 23.7 리스트에 map 함수 사용하기 "
   ]
  },
  {
   "cell_type": "code",
   "execution_count": null,
   "metadata": {},
   "outputs": [],
   "source": []
  }
 ],
 "metadata": {
  "kernelspec": {
   "display_name": "Python 3",
   "language": "python",
   "name": "python3"
  },
  "language_info": {
   "codemirror_mode": {
    "name": "ipython",
    "version": 3
   },
   "file_extension": ".py",
   "mimetype": "text/x-python",
   "name": "python",
   "nbconvert_exporter": "python",
   "pygments_lexer": "ipython3",
   "version": "3.6.5"
  }
 },
 "nbformat": 4,
 "nbformat_minor": 2
}
