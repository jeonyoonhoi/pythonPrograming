{
 "cells": [
  {
   "cell_type": "markdown",
   "metadata": {},
   "source": [
    "## Basic Operation"
   ]
  },
  {
   "cell_type": "markdown",
   "metadata": {},
   "source": [
    "### Goal\n",
    "- 개별 Pixcel 에 접근하고, 수정할 수 있다. \n",
    "- 이미지의 기본 속성을 확인 할 수 있다.\n",
    "- 이미지의 ROI(Reogion of Image)를 설정할 수 있다. \n",
    "- 이미지를 분리하고, 합칠 수 있다. \n",
    "\n",
    "### Pixel Value\n",
    "- 일반적으로 이미지를 Load하면 3차원 행렬형태로 생성이 됩니다. \n",
    "- (100,200,3) 이러한 행태로 (행, 열, 색정보) "
   ]
  },
  {
   "cell_type": "code",
   "execution_count": 2,
   "metadata": {},
   "outputs": [],
   "source": [
    "import cv2\n",
    "import numpy as np\n",
    "img = cv2.imread('images/model.png')"
   ]
  },
  {
   "cell_type": "code",
   "execution_count": 4,
   "metadata": {},
   "outputs": [
    {
     "data": {
      "text/plain": [
       "array([233, 242, 220], dtype=uint8)"
      ]
     },
     "execution_count": 4,
     "metadata": {},
     "output_type": "execute_result"
    }
   ],
   "source": [
    "# 특성 픽셀값에 접근 가능\n",
    "px = img[100,200]\n",
    "px\n",
    "# 100행 200열 색 값이 157(B), 100(G), 190(R) 인 것을 확인 할 수 있다. \n"
   ]
  },
  {
   "cell_type": "code",
   "execution_count": 6,
   "metadata": {},
   "outputs": [
    {
     "data": {
      "text/plain": [
       "233"
      ]
     },
     "execution_count": 6,
     "metadata": {},
     "output_type": "execute_result"
    }
   ],
   "source": [
    "# 만약 Blue 값만을 확인하고 싶을 경우에는 아래와 같이 입력한다\n",
    "blue = img[100,200,0]\n",
    "blue\n",
    "#0 : Blue, 1:Green , 2:Red"
   ]
  },
  {
   "cell_type": "code",
   "execution_count": 7,
   "metadata": {},
   "outputs": [],
   "source": [
    "#특성 pixel의 값을 변경한다. \n",
    "\n",
    "img[100,200] = [255,255,255]\n"
   ]
  },
  {
   "cell_type": "code",
   "execution_count": 8,
   "metadata": {},
   "outputs": [
    {
     "data": {
      "text/plain": [
       "242"
      ]
     },
     "execution_count": 8,
     "metadata": {},
     "output_type": "execute_result"
    }
   ],
   "source": [
    "img.item(10,10,2) #Red 값"
   ]
  },
  {
   "cell_type": "code",
   "execution_count": 10,
   "metadata": {},
   "outputs": [
    {
     "data": {
      "text/plain": [
       "100"
      ]
     },
     "execution_count": 10,
     "metadata": {},
     "output_type": "execute_result"
    }
   ],
   "source": [
    "img.itemset((10,10,2),100) # Red 값을 100으로 변경\n",
    "img.item(10,10,2)"
   ]
  },
  {
   "cell_type": "markdown",
   "metadata": {},
   "source": [
    "### 이미지의 기본속성\n",
    "- 이미지를 Load 한 후에 해당 이미지의 기본적인 정보를 확인해야 합니다. \n",
    "- 행과 열의 갯수가 몇 개인지\n",
    "- 몇 개의 Channel 로 구성이 되어 있는지\n",
    "- 이를 확인하기 위해서 ```img.shape``` 를 사용하면 \n",
    "- tuple 형태로 (행, 열, channel)정보를 Return 한다. \n",
    "\n",
    "- Gray sacle 인경우에는 (행, 열) 만 리턴된다."
   ]
  },
  {
   "cell_type": "code",
   "execution_count": 11,
   "metadata": {},
   "outputs": [
    {
     "data": {
      "text/plain": [
       "(2420, 960, 3)"
      ]
     },
     "execution_count": 11,
     "metadata": {},
     "output_type": "execute_result"
    }
   ],
   "source": [
    "img.shape"
   ]
  },
  {
   "cell_type": "code",
   "execution_count": 12,
   "metadata": {},
   "outputs": [
    {
     "data": {
      "text/plain": [
       "6969600"
      ]
     },
     "execution_count": 12,
     "metadata": {},
     "output_type": "execute_result"
    }
   ],
   "source": [
    "# 전체 픽셀 수의 확인은\n",
    "img.size"
   ]
  },
  {
   "cell_type": "code",
   "execution_count": 14,
   "metadata": {
    "scrolled": true
   },
   "outputs": [
    {
     "data": {
      "text/plain": [
       "dtype('uint8')"
      ]
     },
     "execution_count": 14,
     "metadata": {},
     "output_type": "execute_result"
    }
   ],
   "source": [
    "#이미지의 Datatype 은 \n",
    "img.dtype"
   ]
  },
  {
   "cell_type": "markdown",
   "metadata": {},
   "source": [
    "### 이미지 ROI(Region on Image)\n",
    "이미지 작업시에는 특정 pixel단위보다는 특정 영역단위로 작업을 하게 됩니다. 이것을 Region of Image(ROI)라고 합니다. ROI 설정은 Numpy 의 indexing 방법을 사용합니다. 만일 아래와 같이 특정 영여겡 어떤 물체가 있다는 것을 알고 있으면 그 영역을 설정해서 Copy 를 할 수도 있습니다. "
   ]
  },
  {
   "cell_type": "code",
   "execution_count": null,
   "metadata": {},
   "outputs": [],
   "source": [
    "img = cv2.imread('images/model.png')\n",
    "#img[행시작,:행끝, ]\n",
    "ball = img[1:500, 2:200]\n",
    "img[501:1000, 2:200] = ball #동일 역역에 copy\n",
    "cv2.imshow('img',img)\n",
    "cv2.waitKey(0)\n",
    "cv2.destroyAllWindows()"
   ]
  },
  {
   "cell_type": "markdown",
   "metadata": {},
   "source": [
    "### 이미지 Channels\n",
    "Color Image는 3개의 채널 BGR로 구성이 되어 있습니다. \n",
    "이것을 각 채널별로 분리할 수 있습니다. "
   ]
  },
  {
   "cell_type": "code",
   "execution_count": 3,
   "metadata": {},
   "outputs": [],
   "source": [
    "b,g,r = cv2.split(img)\n",
    "img = cv2.merge((r,g,b))\n"
   ]
  },
  {
   "cell_type": "code",
   "execution_count": 4,
   "metadata": {},
   "outputs": [],
   "source": [
    "# 또는 Numpy indexing 접근 방법으로 표현할 수도 있습니다. \n",
    "b = img[:,:,0]"
   ]
  },
  {
   "cell_type": "code",
   "execution_count": null,
   "metadata": {},
   "outputs": [],
   "source": [
    "# cv2.split() 함수는 비용이 많이 드는 함수입니다. 가능하다면 Numpy indexing 방법을 사용하는 것이 효율적이다. \n",
    "# 특정 Channel의 값을 변경하려면 아래와 같이 입력한다. .\n",
    "img[:,:,2] = 0 # Red Channel"
   ]
  }
 ],
 "metadata": {
  "kernelspec": {
   "display_name": "Python 3",
   "language": "python",
   "name": "python3"
  },
  "language_info": {
   "codemirror_mode": {
    "name": "ipython",
    "version": 3
   },
   "file_extension": ".py",
   "mimetype": "text/x-python",
   "name": "python",
   "nbconvert_exporter": "python",
   "pygments_lexer": "ipython3",
   "version": "3.6.5"
  }
 },
 "nbformat": 4,
 "nbformat_minor": 2
}
