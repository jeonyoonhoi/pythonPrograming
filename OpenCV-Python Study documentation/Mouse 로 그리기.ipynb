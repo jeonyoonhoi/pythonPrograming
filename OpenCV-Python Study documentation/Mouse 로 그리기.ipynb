{
 "cells": [
  {
   "cell_type": "markdown",
   "metadata": {},
   "source": [
    "## Goal\n",
    "- Mouse Event 의 적용 방법에 대해서 알 수 있다. \n",
    "- ``cv2.setMouseCallback()`` 함수에 대해서 알 수 있다"
   ]
  },
  {
   "cell_type": "markdown",
   "metadata": {},
   "source": [
    "## 작동 방법"
   ]
  },
  {
   "cell_type": "code",
   "execution_count": 4,
   "metadata": {},
   "outputs": [
    {
     "name": "stdout",
     "output_type": "stream",
     "text": [
      "['EVENT_FLAG_ALTKEY', 'EVENT_FLAG_CTRLKEY', 'EVENT_FLAG_LBUTTON', 'EVENT_FLAG_MBUTTON', 'EVENT_FLAG_RBUTTON', 'EVENT_FLAG_SHIFTKEY', 'EVENT_LBUTTONDBLCLK', 'EVENT_LBUTTONDOWN', 'EVENT_LBUTTONUP', 'EVENT_MBUTTONDBLCLK', 'EVENT_MBUTTONDOWN', 'EVENT_MBUTTONUP', 'EVENT_MOUSEHWHEEL', 'EVENT_MOUSEMOVE', 'EVENT_MOUSEWHEEL', 'EVENT_RBUTTONDBLCLK', 'EVENT_RBUTTONDOWN', 'EVENT_RBUTTONUP']\n"
     ]
    }
   ],
   "source": [
    "import cv2\n",
    "events = [i for i in dir(cv2) if 'EVENT' in i ]\n",
    "print(events)"
   ]
  },
  {
   "cell_type": "markdown",
   "metadata": {},
   "source": [
    "##### cv2.setMouseCallback(windowName,callback,param=None)\n",
    "\n",
    "- 마우스이벤트를 확인하고 callback을 호출하는 함수\n",
    "- windowName : windowName 이 들어온다. \n",
    "- callback 함수에는 (event, x, y,flasx, param)이 전달됨\n",
    "- callback 함수에 전달되는 Data"
   ]
  },
  {
   "cell_type": "markdown",
   "metadata": {},
   "source": [
    "## simple demo"
   ]
  },
  {
   "cell_type": "code",
   "execution_count": 2,
   "metadata": {},
   "outputs": [],
   "source": [
    "import cv2\n",
    "import numpy as np\n",
    "\n",
    "# callback함수\n",
    "def draw_circle(event, x, y, flags, param):\n",
    "    if event == cv2.EVENT_LBUTTONDBLCLK:\n",
    "        cv2.circle(img,(x,y), 100,(255,0,0),-1)\n",
    "\n",
    "# 빈 Image 생성\n",
    "img = np.zeros((512,512,3), np.uint8)\n",
    "cv2.namedWindow('image')\n",
    "cv2.setMouseCallback('image', draw_circle)\n",
    "\n",
    "while(1):\n",
    "    cv2.imshow('image', img)\n",
    "    if cv2.waitKey(0) & 0xFF == 27:\n",
    "        break\n",
    "\n",
    "cv2.destroyAllWindows()"
   ]
  },
  {
   "cell_type": "markdown",
   "metadata": {},
   "source": [
    "## Advanced Demo\n",
    "마우스를 누른 상태에서 이동시 원 또는 사각형을 그리는 Demo. 대상 추적이나 이미지 segmentation 시 응용될 수 있다. (ex : 이미지에서 대상을 마우스로 선택하고 동일한 대상을 찾는 경우)\n"
   ]
  },
  {
   "cell_type": "code",
   "execution_count": 3,
   "metadata": {},
   "outputs": [],
   "source": [
    "import cv2\n",
    "import numpy as np\n",
    "\n",
    "drawing = False #mouse가 클릭된 상태 확인용\n",
    "mode =  True # true 이면 사각형 false 는 원\n",
    "ix, iy  = -1, -1\n",
    "\n",
    "#Mouse callback 함수\n",
    "def draw_circle(event,x,y,flags, param) : \n",
    "    global ix,iy,drawing, mode\n",
    "    \n",
    "    if event == cv2.EVENT_LBUTTONDOWN : \n",
    "        drawing = True\n",
    "        ix,iy = x,y\n",
    "    elif event ==cv2.EVENT_MOUSEMOVE : \n",
    "        if drawing == True :\n",
    "            if mode == True : \n",
    "                cv2.rectangle(img, (ix,iy),(x,y),(255,0,0))\n",
    "            else : \n",
    "                cv2.circle(img,(x,y),5,(0,255,0),-1)\n",
    "                \n",
    "    elif event == cv2.EVENT_LBUTTONUP : \n",
    "        drawing = False ;\n",
    "        if mode == True : \n",
    "            cv2.rectangle(img, (ix,iy),(x,y),(255,0,0),-1)\n",
    "        else : \n",
    "            cv2.circle(img,(x,y),5,(0,255,0),-1)\n",
    "            \n",
    "            \n",
    "img = np.zeros((512,512,3),np.uint8)\n",
    "cv2.namedWindow('image')\n",
    "cv2.setMouseCallback('image',draw_circle)\n",
    "\n",
    "while True :\n",
    "    cv2.imshow('image',img)\n",
    "    k = cv2.waitKey(1) & 0xFF\n",
    "    \n",
    "    if k ==ord('m') : # 사각형, 원 Mode 변경\n",
    "        mode = not mode\n",
    "    elif k ==27 :  # esc 를 누루ㅡ면 종료\n",
    "        break\n",
    "        \n",
    "cv2.destroyAllWindows()"
   ]
  },
  {
   "cell_type": "code",
   "execution_count": null,
   "metadata": {},
   "outputs": [],
   "source": []
  }
 ],
 "metadata": {
  "kernelspec": {
   "display_name": "Python 3",
   "language": "python",
   "name": "python3"
  },
  "language_info": {
   "codemirror_mode": {
    "name": "ipython",
    "version": 3
   },
   "file_extension": ".py",
   "mimetype": "text/x-python",
   "name": "python",
   "nbconvert_exporter": "python",
   "pygments_lexer": "ipython3",
   "version": "3.6.5"
  }
 },
 "nbformat": 4,
 "nbformat_minor": 2
}
