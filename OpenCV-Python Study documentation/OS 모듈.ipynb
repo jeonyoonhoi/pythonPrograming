{
 "cells": [
  {
   "cell_type": "markdown",
   "metadata": {},
   "source": [
    "```os.listdir``` 이나 ```glob``` 같은 걸  재귀호출로 특정 디렉토리 아래의 폴더를 순환하며 파일 이름을 모으는 코드를 만들 수도 있지만 \n",
    "\n",
    "python의 기본 모듈인 os.walk 가 이런 역할을 하도록 이미 구축되어 있다. \n"
   ]
  },
  {
   "cell_type": "code",
   "execution_count": 15,
   "metadata": {},
   "outputs": [
    {
     "name": "stdout",
     "output_type": "stream",
     "text": [
      "Basic Operation.ipynb\n",
      "Mouse 로 그리기.ipynb\n",
      "OS 모듈.ipynb\n",
      "Untitled.ipynb\n",
      "[02편] image reading 과 writing.ipynb\n",
      "[07편] 이미지 픽셀 조작 및 ROI 조작.ipynb\n",
      "도형그리기.ipynb\n",
      "마우스 이벤트 .ipynb\n",
      "이미지의 기하학적 변형.ipynb\n",
      "Basic Operation-checkpoint.ipynb\n",
      "Mouse 로 그리기-checkpoint.ipynb\n",
      "OS 모듈-checkpoint.ipynb\n",
      "Untitled-checkpoint.ipynb\n",
      "[02편] image reading 과 writing-checkpoint.ipynb\n",
      "[07편] 이미지 픽셀 조작 및 ROI 조작-checkpoint.ipynb\n",
      "도형그리기-checkpoint.ipynb\n",
      "마우스 이벤트 -checkpoint.ipynb\n",
      "이미지의 기하학적 변형-checkpoint.ipynb\n",
      "model.png\n",
      "model_copy.jpg\n"
     ]
    }
   ],
   "source": [
    "import os\n",
    "\n",
    "for root, dirs, files in os.walk('./'):\n",
    "    for file in files : \n",
    "        print(file)\n",
    "    "
   ]
  },
  {
   "cell_type": "markdown",
   "metadata": {},
   "source": [
    "```os.walk``` 는 특정 디렉토리 아래으리 모든 디페고리와 파일의 목록을 얻어 올 수 있도록 도와준다. \n",
    "이터레이션(for문)에서 3개의 아이템으로 구성된 튜플로 분해가 가능ㅎ한데 이름만으로도 무엇인지 알 수 있다. \n",
    "- root : 어떤 디렉토리인지\n",
    "- dirs : 아래의 디렉토리 목록, \n",
    "- files : root 는 아래의 파일 목록이다. \n",
    "모든 목록은 리스트 형태이다. \n",
    "\n",
    "* 필요하다면 디렉도리목록, 파일목록 모두 만들 숭 ㅣㅆ다. \n"
   ]
  },
  {
   "cell_type": "code",
   "execution_count": 16,
   "metadata": {},
   "outputs": [],
   "source": [
    "def get_filelist(path):\n",
    "    li = []\n",
    "    for root, dirs, files in os.walk(path):\n",
    "        for file in files :\n",
    "            li.append(file)\n",
    "    return li"
   ]
  },
  {
   "cell_type": "code",
   "execution_count": 18,
   "metadata": {},
   "outputs": [
    {
     "data": {
      "text/plain": [
       "['model.png', 'model_copy.jpg']"
      ]
     },
     "execution_count": 18,
     "metadata": {},
     "output_type": "execute_result"
    }
   ],
   "source": [
    "get_filelist('./images')"
   ]
  },
  {
   "cell_type": "code",
   "execution_count": 3,
   "metadata": {},
   "outputs": [],
   "source": [
    "import os\n",
    "def allfiles(path):\n",
    "    res =[]\n",
    "    \n",
    "    for root, dirs, files in os.walk(path):\n",
    "        rootpath = os.path.join(os.path.abspath(path), root)\n",
    "        \n",
    "        for file in files :\n",
    "            filepath = os.path.join(rootpath, file)\n",
    "            res.append(filepath)\n",
    "    \n",
    "    return res"
   ]
  },
  {
   "cell_type": "code",
   "execution_count": 6,
   "metadata": {},
   "outputs": [
    {
     "data": {
      "text/plain": [
       "['C:\\\\Users\\\\YOONHOI\\\\Desktop\\\\workspace\\\\python_programming\\\\image-viewer\\\\OpenCV-Python Study documentation!\\\\images\\\\images\\\\model.png',\n",
       " 'C:\\\\Users\\\\YOONHOI\\\\Desktop\\\\workspace\\\\python_programming\\\\image-viewer\\\\OpenCV-Python Study documentation!\\\\images\\\\images\\\\model_copy.jpg']"
      ]
     },
     "execution_count": 6,
     "metadata": {},
     "output_type": "execute_result"
    }
   ],
   "source": [
    "allfiles('images')"
   ]
  },
  {
   "cell_type": "code",
   "execution_count": null,
   "metadata": {},
   "outputs": [],
   "source": []
  }
 ],
 "metadata": {
  "kernelspec": {
   "display_name": "Python 3",
   "language": "python",
   "name": "python3"
  },
  "language_info": {
   "codemirror_mode": {
    "name": "ipython",
    "version": 3
   },
   "file_extension": ".py",
   "mimetype": "text/x-python",
   "name": "python",
   "nbconvert_exporter": "python",
   "pygments_lexer": "ipython3",
   "version": "3.6.5"
  }
 },
 "nbformat": 4,
 "nbformat_minor": 2
}
