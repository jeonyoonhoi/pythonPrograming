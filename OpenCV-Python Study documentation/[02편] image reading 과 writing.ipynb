{
 "cells": [
  {
   "cell_type": "markdown",
   "metadata": {},
   "source": [
    "## [02편] 이미지 reading과 writing"
   ]
  },
  {
   "cell_type": "code",
   "execution_count": 6,
   "metadata": {},
   "outputs": [],
   "source": [
    "import cv2 #OpenCV 패키지를 불러온다\n",
    "import numpy as np\n",
    "import matplotlib.pyplot as plt\n",
    "__author__ = \"une0927@gmail.com\""
   ]
  },
  {
   "cell_type": "markdown",
   "metadata": {},
   "source": [
    "### 이미지 open , 키보드로 창닫기"
   ]
  },
  {
   "cell_type": "code",
   "execution_count": 7,
   "metadata": {},
   "outputs": [],
   "source": [
    "def showImage() :\n",
    "    imgfile = 'images/model.png'\n",
    "    img = cv2.imread(imgfile, cv2.IMREAD_COLOR)\n",
    "    \n",
    "    cv2.imshow('model',img)\n",
    "    cv2.waitKey(0)\n",
    "    cv2.destroyAllWindows()"
   ]
  },
  {
   "cell_type": "code",
   "execution_count": 8,
   "metadata": {
    "scrolled": true
   },
   "outputs": [],
   "source": [
    "showImage()"
   ]
  },
  {
   "cell_type": "markdown",
   "metadata": {},
   "source": [
    "``` cv2.imread(imgfile, cv2.IMREAD_COLOR)```\n",
    "\n",
    "\n",
    "- oepncv의 imread 함수 : 이미지 파일을 읽기 위한 객체를 리턴함\n",
    "- imgfile(첫 번째 인자) :  읽고자 하는 이미지 파일의 경로\n",
    "- cv2.IMREAD_COLOR(두 번째) : 이미지 파일을 읽는 방식\n",
    "\n",
    "#### 이미지 읽기 플래그\n",
    "- cv2.IMREAD_COLOR : 컬러이미지로 로드/투명한 부분은 모두 무시/default flag/정수값 1\n",
    "- cv2.IMREAD_GRAYSCALE : 흑백 이미지로 로드/ 정수값은 0\n",
    "- cv2.IMREAD_UNCHANGED : 알파채널을 포함하여 이미지 그대로 로드/정수값 -1\n",
    "\n",
    "\n",
    "```cv2.waitKey()```  : 지정된 시간동안 키보드 입력을 기다리는 함수, 단위는 1/1000초(ms), 0이 들어가면 입력이 있을 때 까지!, 함수의 리터값은 사용자가 누른 키보드 값, ESC 키를 눌렀다면 27을 리턴하게 된다. \n",
    "\n",
    "```cv2.destroyAllWindows()``` 생성한 모든 윈도우를 제거\n"
   ]
  },
  {
   "cell_type": "markdown",
   "metadata": {},
   "source": [
    "### 창 크기 조절하기"
   ]
  },
  {
   "cell_type": "code",
   "execution_count": 9,
   "metadata": {},
   "outputs": [],
   "source": [
    "def showImage2() :\n",
    "    imgfile = 'images/model.png'\n",
    "    img = cv2.imread(imgfile, cv2.IMREAD_COLOR)\n",
    "    \n",
    "    cv2.namedWindow('model',cv2.WINDOW_NORMAL)\n",
    "    cv2.imshow('model',img)\n",
    "    cv2.waitKey(0)\n",
    "    cv2.destroyAllWindows()"
   ]
  },
  {
   "cell_type": "code",
   "execution_count": 10,
   "metadata": {},
   "outputs": [],
   "source": [
    "showImage2()"
   ]
  },
  {
   "cell_type": "markdown",
   "metadata": {},
   "source": [
    "```cv2.nameWindow(param1,param2)```\n",
    "\n",
    "- param1 : 생성될 이미지 표시 윈도우의 타이틀\n",
    "- param2 : 윈도우 사이즈 플래그\n",
    "\n",
    "* 윈도우 사이즈 플래그의 의미\n",
    "    - cv2.WINDOW_AUTOSIZE : 원본 이미지 크기로 고정하여 윈도우를 생성함\n",
    "    - cv2.WINDOW_NORMAL : 원본 이미지 크기로 윈도우를 생성하여 이미지를 나타내지만, <b> 사용자가 크기를 조절할 수 있는 윈도우를 생성함 </b>"
   ]
  },
  {
   "cell_type": "markdown",
   "metadata": {},
   "source": [
    "### 이미지 파일의 복사본 만들기"
   ]
  },
  {
   "cell_type": "code",
   "execution_count": 11,
   "metadata": {},
   "outputs": [],
   "source": [
    "def showImage3() :\n",
    "    imgfile = 'images/model.png'\n",
    "    img = cv2.imread(imgfile, cv2.IMREAD_COLOR)\n",
    "    cv2.imshow('model',img)\n",
    "    \n",
    "    k = cv2.waitKey(0) & 0xFF\n",
    "    \n",
    "    if k ==27:\n",
    "        cv2.destroyAllWindows()\n",
    "    elif k ==ord('c'):\n",
    "        cv2.imwrite('images/model_copy.jpg',img)\n",
    "        cv2.destroyAllWindows()\n"
   ]
  },
  {
   "cell_type": "code",
   "execution_count": 12,
   "metadata": {
    "scrolled": true
   },
   "outputs": [],
   "source": [
    "showImage3()"
   ]
  },
  {
   "cell_type": "markdown",
   "metadata": {},
   "source": [
    "```k = cv2.waitKey(0) & 0xFF```\n",
    "기다리고 있다가 키보드 입력이 일어나면 그 값을 받은 뒤 0xFF 와 연산을 해준다. 이는 32비트 os라면 필요 없고 64 라면 해준다. \n",
    "\n",
    "- 27(esc)라면 창을 종료하고 ord('c')라면 복사본을 생성한 뒤 창을 종료한다. \n",
    "\n",
    "- ord() : 문자 --> ASCII\n",
    "- chr() : ASCII --> 문자"
   ]
  },
  {
   "cell_type": "markdown",
   "metadata": {},
   "source": [
    "### Matplotlib을 이용해서 화면에 이미지 표현하기\n",
    "\n",
    "- Matplotlib : 파이썬을 위한 플로팅 라이브러리\n",
    "- 광범위하고 다양한 플로팅 메쏘드를 제공함 \n",
    "- 이미지 화면에 나타내기\n",
    "- 이미지 ZOOM\n",
    "- 이미지 저장하기\n",
    "등의 다양한 기능 활용가능"
   ]
  },
  {
   "cell_type": "code",
   "execution_count": 13,
   "metadata": {},
   "outputs": [],
   "source": [
    "def showImage4():\n",
    "    imgfile = 'images/model.png'\n",
    "    img = cv2.imread(imgfile, cv2.IMREAD_GRAYSCALE)\n",
    "    # 이미지를 흑백으로 읽도록 합니다. \n",
    "    \n",
    "    plt.imshow(img, cmap = 'gray', interpolation = 'bicubic')\n",
    "   # 화면에 이미지를 디스플레이 함\n",
    "    plt.xticks([])\n",
    "    plt.yticks([])\n",
    "    # 기본적으로 x, y축 눈금 표시가 뜨는데 위 코드는 눈금 없이 이미지를 표시하는 코드이다. \n",
    "    plt.title('model')\n",
    "    plt.show()\n",
    "    # 최종적으로 화면에 띄운다. "
   ]
  },
  {
   "cell_type": "code",
   "execution_count": 14,
   "metadata": {},
   "outputs": [
    {
     "data": {
      "image/png": "[encoded data removed]",
      "text/plain": [
       "<Figure size 432x288 with 1 Axes>"
      ]
     },
     "metadata": {},
     "output_type": "display_data"
    }
   ],
   "source": [
    "showImage4()"
   ]
  },
  {
   "cell_type": "markdown",
   "metadata": {},
   "source": [
    "#### GRAYSCALE \n",
    "```img = cv2.imread(imgfile, cv2.IMREAD_GRAYSCALE)``` : 이미지를 흑백으로 읽도록 합니다. \n",
    "- openCV  : BGR 모드로 컬러를 다룸\n",
    "- Matplotlib : RGB 모드로 이미지를 다룸\n",
    "- openCV 컬러로 이미지 객체를 읽고, 이를 matplotlib 로 그대로 사용한다면 제대로 된 컬러색깔이 나오지 않는다. \n",
    "\n",
    "#### 화면에 display\n",
    "```    plt.imshow(img, cmap = 'gray', interpolation = 'bicubic')``` : 어떻게 디스플레이 할 것인지 정의"
   ]
  },
  {
   "cell_type": "code",
   "execution_count": null,
   "metadata": {},
   "outputs": [],
   "source": []
  }
 ],
 "metadata": {
  "kernelspec": {
   "display_name": "Python 3",
   "language": "python",
   "name": "python3"
  },
  "language_info": {
   "codemirror_mode": {
    "name": "ipython",
    "version": 3
   },
   "file_extension": ".py",
   "mimetype": "text/x-python",
   "name": "python",
   "nbconvert_exporter": "python",
   "pygments_lexer": "ipython3",
   "version": "3.6.5"
  }
 },
 "nbformat": 4,
 "nbformat_minor": 2
}
