{
 "cells": [
  {
   "cell_type": "markdown",
   "metadata": {},
   "source": [
    "## 도형그리기 "
   ]
  },
  {
   "cell_type": "markdown",
   "metadata": {},
   "source": [
    "- 다양한 모양의 도형을 그릴 수 있다. \n",
    "- ```cv2.line()``` , ```cv2.circle()``` , ```cv2.rectangle()``` , ``` cv2.putText()``` 사용법을 알 수 있다. "
   ]
  },
  {
   "cell_type": "markdown",
   "metadata": {},
   "source": [
    "### Line 그리기 \n",
    "Start 와 End 점을 연결하여 직선을 그립니다. \n",
    "```cv2.line(img, start, end, color thickness)```\n",
    "\n",
    "- img : 그림을 그릴 이미지 파일\n",
    "- start : 시작 좌표 (0,0)\n",
    "- end : 종료 좌표 (0,0)\n",
    "- color :  BGR 형태의 color( 255,0,0)\n",
    "- thickness(int) : 선의 두께. pixel"
   ]
  },
  {
   "cell_type": "code",
   "execution_count": 2,
   "metadata": {},
   "outputs": [],
   "source": [
    "import numpy as np\n",
    "import cv2\n",
    "\n",
    "# 모두 0 으로 되어있는 빈 canvas(검정색)\n",
    "img = np.zeros((512,512,3),np.uint8)\n",
    "img = cv2.line(img, (0,0), (511,511),(255,0,0),5)\n",
    "\n",
    "cv2.imshow('image',img)\n",
    "cv2.waitKey(0)\n",
    "cv2.destroyAllWindows()"
   ]
  },
  {
   "cell_type": "markdown",
   "metadata": {},
   "source": [
    "### Line 그리기\n",
    "top-left corner 와 bottom-right corner 점을 연결하는 사각형을 그립니다. \n",
    "\n",
    "``` cv2.rectangle(img, start, end, color, thickness)```\n",
    "- img : 그림 그릴 이미지\n",
    "- start : 시작 좌표\n",
    "- end : 종료 좌표\n",
    "- color : BGR 형태의 color\n",
    "- thickness(int) : 선의 두께\n"
   ]
  },
  {
   "cell_type": "code",
   "execution_count": null,
   "metadata": {},
   "outputs": [],
   "source": [
    "import numpy as np\n",
    "import cv2\n",
    "\n",
    "# 모두 0 으로 되어있는 빈 canvas(검정색)\n",
    "img = np.zeros((512,512,3),np.uint8)\n",
    "img = cv2.rectangle(img, (384,0), (510,128),(0,255,0),5)\n",
    "\n",
    "cv2.imshow('image',img)\n",
    "cv2.waitKey(0)\n",
    "cv2.destroyAllWindows()"
   ]
  },
  {
   "cell_type": "markdown",
   "metadata": {},
   "source": [
    "### 원그리기 \n",
    "``` cv2.circle(img,center,radian, color, thickness)```\n",
    "- (이미지, 중심좌표, 반지름, 색깔, 두께 )\n",
    "- 두께 = -1 이면 원 안쪽을 채운다. "
   ]
  },
  {
   "cell_type": "code",
   "execution_count": null,
   "metadata": {},
   "outputs": [],
   "source": [
    "import numpy as np\n",
    "import cv2\n",
    "\n",
    "# 모두 0 으로 되어있는 빈 canvas(검정색)\n",
    "img = np.zeros((512,512,3),np.uint8)\n",
    "img = cv2.circle(img, (447,63),63,(0,0,255),-1)\n",
    "img = cv2.circle(img, (447,63),63,(0,123,122),20)\n",
    "img = cv2.circle(img, (447,63),63,(0,123,255),10)\n",
    "img = cv2.circle(img, (447,63),63,(0,0,255),1)\n",
    "\n",
    "cv2.imshow('image',img)\n",
    "cv2.waitKey(0)\n",
    "cv2.destroyAllWindows()"
   ]
  },
  {
   "cell_type": "markdown",
   "metadata": {},
   "source": [
    "## 타원 그리기\n",
    "``` cv2.ellipse(img, center, axes, angle, startAngle, endAngle, color, thickness)```\n",
    "- 이미지, 중심, (긴거리,짧은거리), 타원의 기울기 각, 타원의 시작 각도, 타원의 끝나는 각도, 타원의 색, 선두께)"
   ]
  },
  {
   "cell_type": "code",
   "execution_count": null,
   "metadata": {},
   "outputs": [],
   "source": [
    "import numpy as np\n",
    "import cv2\n",
    "\n",
    "# 모두 0 으로 되어있는 빈 canvas(검정색)\n",
    "img = np.zeros((512,512,3),np.uint8)\n",
    "img = cv2.ellipse(img, (256,256), (100,50), 0, 0, 180, 255, -1)\n",
    "\n",
    "cv2.imshow('image',img)\n",
    "cv2.waitKey(0)\n",
    "cv2.destroyAllWindows()"
   ]
  },
  {
   "cell_type": "markdown",
   "metadata": {},
   "source": [
    "### Polygon 그리기\n",
    "\n",
    "``` cv2.polylines(immg,pts,isClosed,color,thickness)```\n",
    "- img, (array) 연결할 꼭지점 좌표, 개폐여부, 색, 두께"
   ]
  },
  {
   "cell_type": "code",
   "execution_count": 2,
   "metadata": {},
   "outputs": [],
   "source": [
    "pts = np.array([[10,5],[20,30],[70,20],[50,10]], np.int32)\n",
    "# 각 꼭지점은 2차원 행렬로 선언\n",
    "pts = pts.reshape((-1,1,2))\n",
    "# 이미지에 표현하기 위해 3차원 행렬로 변환\n",
    "# 변환 전후의 행렬 갯수는 동일해야 한다. \n",
    "# -1 : 원본에 해당하는 값 그대로 유지 \n",
    "img = cv2.polyl\n",
    "# 이미지에 표현하기 위해 3차원 행렬로 변환\n",
    "# 변환 전후의 행렬 갯수는 동일해야 한다. \n",
    "ines(img, [pts],True, (0,255,255))"
   ]
  },
  {
   "cell_type": "markdown",
   "metadata": {},
   "source": [
    "### 이미지에 Text 추가\n",
    "\n",
    "```cv2.putText(img, text, org, font, fontScale, color)```\n",
    "- img, 표시할 문자열, 문자열의 bottom-left corner 점, CV2.FONT_XXX, 사이즈, color"
   ]
  },
  {
   "cell_type": "code",
   "execution_count": 2,
   "metadata": {},
   "outputs": [],
   "source": [
    "\n",
    "import numpy as np\n",
    "import cv2\n",
    "\n",
    "# 모두 0 으로 되어있는 빈 canvas(검정색)\n",
    "img = np.zeros((512,512,3),np.uint8)\n",
    "\n",
    "cv2.putText(img, 'Open Cv',(10,500), cv2.FONT_HERSHEY_SIMPLEX,4,(255,255,255),2)\n",
    "\n",
    "cv2.imshow('image',img)\n",
    "cv2.waitKey(0)\n",
    "cv2.destroyAllWindows()\n",
    "\n"
   ]
  },
  {
   "cell_type": "code",
   "execution_count": null,
   "metadata": {},
   "outputs": [],
   "source": []
  }
 ],
 "metadata": {
  "kernelspec": {
   "display_name": "Python 3",
   "language": "python",
   "name": "python3"
  },
  "language_info": {
   "codemirror_mode": {
    "name": "ipython",
    "version": 3
   },
   "file_extension": ".py",
   "mimetype": "text/x-python",
   "name": "python",
   "nbconvert_exporter": "python",
   "pygments_lexer": "ipython3",
   "version": "3.6.5"
  }
 },
 "nbformat": 4,
 "nbformat_minor": 2
}
