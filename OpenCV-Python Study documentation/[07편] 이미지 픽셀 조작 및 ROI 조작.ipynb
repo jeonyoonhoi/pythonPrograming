{
 "cells": [
  {
   "cell_type": "code",
   "execution_count": 2,
   "metadata": {},
   "outputs": [],
   "source": [
    "import numpy as np\n",
    "import cv2"
   ]
  },
  {
   "cell_type": "code",
   "execution_count": 3,
   "metadata": {},
   "outputs": [
    {
     "name": "stdout",
     "output_type": "stream",
     "text": [
      "[233 242 220]\n"
     ]
    }
   ],
   "source": [
    "img = cv2.imread('images/model.png')\n",
    "px = img[340,200]\n",
    "print(px)"
   ]
  },
  {
   "cell_type": "code",
   "execution_count": 4,
   "metadata": {},
   "outputs": [
    {
     "name": "stdout",
     "output_type": "stream",
     "text": [
      "[233, 242, 220]\n"
     ]
    }
   ],
   "source": [
    "B = img.item(340,200,0)\n",
    "G = img.item(340,200,1)\n",
    "R = img.item(340,200,2)\n",
    "\n",
    "BGR = [B,G,R]\n",
    "print(BGR)"
   ]
  },
  {
   "cell_type": "code",
   "execution_count": 5,
   "metadata": {},
   "outputs": [],
   "source": [
    "#(340,200) 위치의 픽셀의 Blue 값을 100으로 변경하는 코드\n",
    "img.itemset((340,200,0),100)"
   ]
  },
  {
   "cell_type": "markdown",
   "metadata": {},
   "source": [
    "### 이미지 ROI 설정\n",
    "이미지를 처리할 떄, 이미지의 특정 영역에서 작업이 이루어지는 경우가 있습니다. 예를 들면 이미지에서 눈(eye)을 찾는다고 할 때, 이미지 전체에서 얼굴을 먼저 찾은 후, 이 얼굴 영역에서 눈을 찾는 것이 성능면에서 효율적이다. \n",
    "ROI(Region Of Image)는 Numpy 인덱싱을 통해 얻을 수 있습니다. "
   ]
  },
  {
   "cell_type": "code",
   "execution_count": 3,
   "metadata": {},
   "outputs": [],
   "source": [
    "img = cv2.imread('images/model.png')\n",
    "cv2.imshow('original',img)"
   ]
  },
  {
   "cell_type": "code",
   "execution_count": 4,
   "metadata": {},
   "outputs": [
    {
     "name": "stdout",
     "output_type": "stream",
     "text": [
      "(2420, 960, 3)\n"
     ]
    }
   ],
   "source": [
    "print(img.shape)"
   ]
  },
  {
   "cell_type": "code",
   "execution_count": 4,
   "metadata": {},
   "outputs": [],
   "source": [
    "subimg = img[1000:1200, 100:800]\n",
    "cv2.imshow('cutting', subimg)"
   ]
  },
  {
   "cell_type": "code",
   "execution_count": 6,
   "metadata": {},
   "outputs": [
    {
     "name": "stdout",
     "output_type": "stream",
     "text": [
      "(2420, 960, 3)\n",
      "(200, 700, 3)\n"
     ]
    }
   ],
   "source": [
    "img[1000:1200, 100:800] = subimg\n",
    "print(img.shape)\n",
    "print(subimg.shape)"
   ]
  },
  {
   "cell_type": "code",
   "execution_count": 8,
   "metadata": {},
   "outputs": [],
   "source": [
    "cv2.imshow('modified',img)"
   ]
  },
  {
   "cell_type": "code",
   "execution_count": null,
   "metadata": {},
   "outputs": [],
   "source": [
    "cv2.waitKey(0)\n",
    "cv2.destroyAllWindows()"
   ]
  },
  {
   "cell_type": "markdown",
   "metadata": {},
   "source": [
    "### 이미지 채널 분할 및 합치기\n",
    "필요시 컬러 이미지의 경우 B,G,R 채널별로 픽셀값들을 따로 분리해 놓을 수 있습니다. 그리고 분리해 놓은 B, G, R 채널을 합쳐서 컬러 이미지로 변환 할 수도 있다. "
   ]
  },
  {
   "cell_type": "code",
   "execution_count": 10,
   "metadata": {},
   "outputs": [
    {
     "name": "stdout",
     "output_type": "stream",
     "text": [
      "233 242 220\n"
     ]
    }
   ],
   "source": [
    "import numpy as np\n",
    "import cv2\n",
    "\n",
    "img = cv2.imread('images/model.png')\n",
    "\n",
    "b,g,r = cv2.split(img)\n",
    "# 원본 이미지 img를 BGR 채널별로 분리한 후 저장한다. \n",
    "\n",
    "print(b[100,100],g[100,100],r[100,100])"
   ]
  },
  {
   "cell_type": "code",
   "execution_count": null,
   "metadata": {},
   "outputs": [],
   "source": [
    "# b,g,r 을 화면에 디스플레이 하면 gray scale \n",
    "# 코드 실행 결과처럼 1 채녈 값으로 되어 있기 때문!\n",
    "\n",
    "cv2.imshow('blue channel',b)\n",
    "cv2.imshow('green channel',g)\n",
    "cv2.imshow('red channel',r)\n",
    "\n",
    "cv2.waitKey(0)\n",
    "cv2.destroyAllWindows()\n"
   ]
  },
  {
   "cell_type": "markdown",
   "metadata": {},
   "source": [
    "- ```cv2.split()``` 채널 분리\n",
    "- ```cv2.merge()``` 채널 합치기\n"
   ]
  },
  {
   "cell_type": "code",
   "execution_count": null,
   "metadata": {},
   "outputs": [],
   "source": [
    "merged_img = cv2.merge((b,g,r))\n",
    "cv2.imgshow('merged',merged_img)\n",
    "# 원본 이미지와 동일한 컬러 이미ㅣ로 디스플레이 된다. "
   ]
  },
  {
   "cell_type": "markdown",
   "metadata": {},
   "source": [
    "- cv2.split() 함수는 성능면에서 효율적인 함수는 아니다. \n",
    "- 따라서 꼭 필요한 경우에만 사용해야 함\n",
    "- 이 방법보다 효율적인건 Numpy 인덱싱!"
   ]
  },
  {
   "cell_type": "code",
   "execution_count": null,
   "metadata": {},
   "outputs": [],
   "source": [
    "b = img[:,:,0]\n",
    "g = img[:,:,1]\n",
    "r = img[:,:,2]\n",
    "\n",
    "#모든 픽셀의 RED 값을 없애고 싶을 때  = 0\n",
    "img[:,:,2] = 0"
   ]
  },
  {
   "cell_type": "code",
   "execution_count": null,
   "metadata": {},
   "outputs": [],
   "source": []
  }
 ],
 "metadata": {
  "kernelspec": {
   "display_name": "Python 3",
   "language": "python",
   "name": "python3"
  },
  "language_info": {
   "codemirror_mode": {
    "name": "ipython",
    "version": 3
   },
   "file_extension": ".py",
   "mimetype": "text/x-python",
   "name": "python",
   "nbconvert_exporter": "python",
   "pygments_lexer": "ipython3",
   "version": "3.6.5"
  }
 },
 "nbformat": 4,
 "nbformat_minor": 2
}
