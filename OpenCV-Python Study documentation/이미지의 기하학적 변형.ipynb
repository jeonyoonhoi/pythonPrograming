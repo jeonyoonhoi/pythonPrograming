{
 "cells": [
  {
   "cell_type": "markdown",
   "metadata": {},
   "source": [
    "## 이미지의 기하학적 변형\n",
    "### Goal\n",
    "\n",
    "- 기하학적 변형에 대해서 알 수 있다. \n",
    "- ``` cv2.getPerspectiveTransform()``` 함수에 대해서 알 수 있다. \n",
    "\n",
    "### Transformations\n",
    "변환이란 수학적으로 표현하면 아래와 같습니다. \n",
    "- 좌표 x를 좌표 x로 변환하는 함수\n",
    "\n",
    "변환의 종류에는 몇 가지 분류가 있습니다. \n",
    "- 강체변환 (Ridid-Body) : 크기 및 각도가 보존(Translation, Rotation)\n",
    "- 유사변환 (Similarity) : 크기는 변하고 각도는 보존(Scaling)\n",
    "- 선형변환 (Linear) : Vector 공간에서의 이동. 이동변환은 제외.\n",
    "- Affine : 선형변환과 이동변환까지 포함. 선의 수평성은 유지. (사각형 -> 평행사변형)\n",
    "- Perspective : Affine 변환에 수평성도 유지되지 않음. 원근변환\n",
    "\n",
    "### Scaling \n",
    "Scaling 은 이미지의 사이즈가 변하는 것입니다. OpenCV에서는 ```cv2.resize()``` 함수를 사용하여 적용할 수 있습니다. 사이즈가 변하면 pixel 사이의 값을 결정을 해야 하는데, 이때 사용하는 것을 보간법(Intterpolation method) 입니다. \n",
    "\n",
    "* 많이 사용되는 보간법은 \n",
    "- 사이즈를 줄일 때는 ``` cv2.INTER_AREA```, \n",
    "- 사이즈를 크게 할 때는 ``` cv2.INTER_CUBIC``` , ```cv2.INTER_LINEAR``` 을 사용합니다. \n",
    "\n",
    "\n",
    "``` cv2.resize(img, dsize, fx, fy, interpolation) ```\n",
    "- 이미지, manual size, 가로사이즈 배수, 세로 사이즈 배수, 보간법"
   ]
  },
  {
   "cell_type": "code",
   "execution_count": 9,
   "metadata": {
    "scrolled": false
   },
   "outputs": [
    {
     "ename": "AttributeError",
     "evalue": "'NoneType' object has no attribute 'shape'",
     "output_type": "error",
     "traceback": [
      "\u001b[1;31m---------------------------------------------------------------------------\u001b[0m",
      "\u001b[1;31mAttributeError\u001b[0m                            Traceback (most recent call last)",
      "\u001b[1;32m<ipython-input-9-e30610da1604>\u001b[0m in \u001b[0;36m<module>\u001b[1;34m()\u001b[0m\n\u001b[0;32m      6\u001b[0m \u001b[1;33m\u001b[0m\u001b[0m\n\u001b[0;32m      7\u001b[0m \u001b[1;31m# 행 : Height, 열:width\u001b[0m\u001b[1;33m\u001b[0m\u001b[1;33m\u001b[0m\u001b[0m\n\u001b[1;32m----> 8\u001b[1;33m \u001b[0mheight\u001b[0m\u001b[1;33m,\u001b[0m \u001b[0mwidth\u001b[0m \u001b[1;33m=\u001b[0m \u001b[0mimg\u001b[0m\u001b[1;33m.\u001b[0m\u001b[0mshape\u001b[0m\u001b[1;33m[\u001b[0m\u001b[1;33m:\u001b[0m\u001b[1;36m2\u001b[0m\u001b[1;33m]\u001b[0m\u001b[1;33m\u001b[0m\u001b[0m\n\u001b[0m\u001b[0;32m      9\u001b[0m \u001b[1;33m\u001b[0m\u001b[0m\n\u001b[0;32m     10\u001b[0m \u001b[1;31m# 이미지 축소\u001b[0m\u001b[1;33m\u001b[0m\u001b[1;33m\u001b[0m\u001b[0m\n",
      "\u001b[1;31mAttributeError\u001b[0m: 'NoneType' object has no attribute 'shape'"
     ]
    }
   ],
   "source": [
    "#-*- coding:utf-8 -*-\n",
    "import cv2\n",
    "import numpy as np\n",
    "\n",
    "img = cv2.imread('images/logo.png')\n",
    "\n",
    "# 행 : Height, 열:width\n",
    "height, width = img.shape[:2]\n",
    "\n",
    "# 이미지 축소\n",
    "shrink = cv2.resize(img, None, fx=0.5, fy=0.5, interpolation=cv2.INTER_AREA)\n",
    "\n",
    "# Manual Size지정\n",
    "zoom1 = cv2.resize(img, (width*2, height*2), interpolation=cv2.INTER_CUBIC)\n",
    "\n",
    "# 배수 Size지정\n",
    "zoom2 = cv2.resize(img, None, fx=2, fy=2, interpolation=cv2.INTER_CUBIC)\n",
    "\n",
    "cv2.imshow('Origianl', img)\n",
    "cv2.imshow('Shrink', shrink)\n",
    "cv2.imshow('Zoom1', zoom1)\n",
    "cv2.imshow('Zoom2', zoom2)\n",
    "\n",
    "cv2.waitKey(0)\n",
    "cv2.destroyAllWindows()"
   ]
  },
  {
   "cell_type": "markdown",
   "metadata": {},
   "source": [
    "### Translation \n",
    "\n",
    "Translation 은 이미지의 위치를 변경하는 변환. \n",
    "```cv2.warpAffine(src,M, dsize) ``` \n",
    "- src : Image \n",
    "- M : 변환 행렬\n",
    "- dsize : output image size \n",
    "- ex : width = columns, height = rows\n",
    "- width 는 column의 수 이고, height 는 row의 수입니다. \n"
   ]
  },
  {
   "cell_type": "code",
   "execution_count": 1,
   "metadata": {},
   "outputs": [
    {
     "ename": "AttributeError",
     "evalue": "'NoneType' object has no attribute 'shape'",
     "output_type": "error",
     "traceback": [
      "\u001b[1;31m---------------------------------------------------------------------------\u001b[0m",
      "\u001b[1;31mAttributeError\u001b[0m                            Traceback (most recent call last)",
      "\u001b[1;32m<ipython-input-1-9860193239a0>\u001b[0m in \u001b[0;36m<module>\u001b[1;34m()\u001b[0m\n\u001b[0;32m      5\u001b[0m \u001b[0mimg\u001b[0m \u001b[1;33m=\u001b[0m \u001b[0mcv2\u001b[0m\u001b[1;33m.\u001b[0m\u001b[0mimread\u001b[0m\u001b[1;33m(\u001b[0m\u001b[1;34m'images/logo.png'\u001b[0m\u001b[1;33m)\u001b[0m\u001b[1;33m\u001b[0m\u001b[0m\n\u001b[0;32m      6\u001b[0m \u001b[1;33m\u001b[0m\u001b[0m\n\u001b[1;32m----> 7\u001b[1;33m \u001b[0mrows\u001b[0m\u001b[1;33m,\u001b[0m \u001b[0mcols\u001b[0m \u001b[1;33m=\u001b[0m \u001b[0mimg\u001b[0m\u001b[1;33m.\u001b[0m\u001b[0mshape\u001b[0m\u001b[1;33m[\u001b[0m\u001b[1;33m:\u001b[0m\u001b[1;36m2\u001b[0m\u001b[1;33m]\u001b[0m\u001b[1;33m\u001b[0m\u001b[0m\n\u001b[0m\u001b[0;32m      8\u001b[0m \u001b[1;33m\u001b[0m\u001b[0m\n\u001b[0;32m      9\u001b[0m \u001b[1;31m# 변환 행렬, X축으로 10, Y축으로 20 이동\u001b[0m\u001b[1;33m\u001b[0m\u001b[1;33m\u001b[0m\u001b[0m\n",
      "\u001b[1;31mAttributeError\u001b[0m: 'NoneType' object has no attribute 'shape'"
     ]
    }
   ],
   "source": [
    "#-*- coding:utf-8 -*-\n",
    "import cv2\n",
    "import numpy as np\n",
    "\n",
    "img = cv2.imread('images/logo.png')\n",
    "\n",
    "rows, cols = img.shape[:2]\n",
    "\n",
    "# 변환 행렬, X축으로 10, Y축으로 20 이동\n",
    "M = np.float32([[1,0,10],[0,1,20]])\n",
    "\n",
    "dst = cv2.warpAffine(img, M,(cols, rows))\n",
    "cv2.imshow('Original', img)\n",
    "cv2.imshow('Translation', dst)\n",
    "\n",
    "cv2.waitKey(0)\n",
    "cv2.destroyAllWindows()"
   ]
  },
  {
   "cell_type": "markdown",
   "metadata": {},
   "source": [
    "### Rotation \n",
    "물체를 평면상의 한 점을 중심으로 세타 만큼 회전하는 변환"
   ]
  },
  {
   "cell_type": "code",
   "execution_count": null,
   "metadata": {},
   "outputs": [],
   "source": [
    " "
   ]
  }
 ],
 "metadata": {
  "kernelspec": {
   "display_name": "Python 3",
   "language": "python",
   "name": "python3"
  },
  "language_info": {
   "codemirror_mode": {
    "name": "ipython",
    "version": 3
   },
   "file_extension": ".py",
   "mimetype": "text/x-python",
   "name": "python",
   "nbconvert_exporter": "python",
   "pygments_lexer": "ipython3",
   "version": "3.6.5"
  }
 },
 "nbformat": 4,
 "nbformat_minor": 2
}
