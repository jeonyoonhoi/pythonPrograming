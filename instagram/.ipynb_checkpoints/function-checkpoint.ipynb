{
 "cells": [
  {
   "cell_type": "code",
   "execution_count": null,
   "metadata": {},
   "outputs": [],
   "source": [
    "import time\n",
    "import random\n",
    "from selenium import webdriver\n",
    "from urllib.parse import quote\n",
    "\n",
    "\n",
    "id = 'id'\n",
    "password = 'password'\n",
    "\n",
    "timeline_like_count = 120\n",
    "hash_tags = ['코딩', '빅데이터','보아즈']\n",
    "hash_tags_count = 60\n",
    "\n",
    "browser = webdriver.Chrome('chromedriver')\n",
    "browser.get('https://instagram.com/')\n",
    "\n",
    "def login(_id, _password):\n",
    "    '''\n",
    "    인스타그램 로그인 구현 \n",
    "    spaceID = driver.find_element_by_xpath(\" //input[@aria-label='전화번호, 사용자 이름 또는 이메일']\")\n",
    "    spaceID.send_keys(_id)\n",
    "\n",
    "    spacePW = driver.find_element_by_xpath(\" //input[@aria-label='비밀번호']\")\n",
    "    spacePW.send_keys(_password)\n",
    "\n",
    "    driver.find_element_by_xpath('//*[@id=\"react-root\"]/section/main/div/article/div/div[1]/div/form/span/button').click()\n",
    "    '''\n",
    "    pass\n",
    "\n",
    "def timeline_like(timeline_like_count):\n",
    "    '''\n",
    "    타임라인 좋아요 구현\n",
    "    for i in range(1,timeline_like_count+1):\n",
    "        path = '//*[@id=\"react-root\"]/section/main/section/div/div[1]/div/article['+str(i)+']/div[2]/section[1]/span[1]/button'\n",
    "\n",
    "        heart = driver.find_element_by_xpath(path)\n",
    "        heart.click()\n",
    "        time.sleep(1)\n",
    "    '''\n",
    "    pass\n",
    "\n",
    "def hash_tags_like(hash_tags, hash_tags_count):\n",
    "    '''\n",
    "    해시태그 좋아요 구현\n",
    "    '''\n",
    "    pass\n",
    "\n",
    "\n",
    "login(id, password)\n",
    "timeline_like(timelinke_like_count)\n",
    "hash_tags_like(hash_tags, hash_tags_count)\n",
    "\n",
    "browser.quit()"
   ]
  }
 ],
 "metadata": {
  "kernelspec": {
   "display_name": "Python 3",
   "language": "python",
   "name": "python3"
  },
  "language_info": {
   "codemirror_mode": {
    "name": "ipython",
    "version": 3
   },
   "file_extension": ".py",
   "mimetype": "text/x-python",
   "name": "python",
   "nbconvert_exporter": "python",
   "pygments_lexer": "ipython3",
   "version": "3.6.5"
  }
 },
 "nbformat": 4,
 "nbformat_minor": 2
}
