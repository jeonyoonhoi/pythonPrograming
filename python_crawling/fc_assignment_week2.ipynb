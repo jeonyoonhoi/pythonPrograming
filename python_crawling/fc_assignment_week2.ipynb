{
 "cells": [
  {
   "cell_type": "markdown",
   "metadata": {},
   "source": [
    "과제 1.\n",
    "http://deal.11st.co.kr/product/SellerProductDetail.tmall?method=getProductReviewList&prdNo=87595509&page=1&pageTypCd=first&reviewDispYn=Y&isPreview=false&reviewOptDispYn=n&optSearchBtnAndGraphLayer=n&reviewBottomBtn=Y&openDetailContents=Y&pageSize=10&isIgnoreAuth=false&lctgrNo=1001369&leafCtgrNo=0&groupProductNo=0&groupFirstViewPrdNo=0&selNo=16674487#this\n",
    "\n",
    "위 사이트에서 별점(1~5)점의 평균을 구하고(1페이지) 1-1과제\n",
    "모든 페이지의 별점의 평균도 구해봅니다. 1-2 과제"
   ]
  },
  {
   "cell_type": "code",
   "execution_count": 6,
   "metadata": {},
   "outputs": [],
   "source": [
    "from bs4 import BeautifulSoup\n",
    "import requests\n",
    "import re\n",
    "from multiprocessing import Pool, Process\n",
    "import time"
   ]
  },
  {
   "cell_type": "code",
   "execution_count": 2,
   "metadata": {},
   "outputs": [],
   "source": [
    "def get_stars(pnum):\n",
    "    base_url = 'http://deal.11st.co.kr/product/SellerProductDetail.tmall?method=getProductReviewList&prdNo=87595509&page={0}&pageTypCd=first&reviewDispYn=Y&isPreview=false&reviewOptDispYn=n&optSearchBtnAndGraphLayer=n&reviewBottomBtn=Y&openDetailContents=Y&pageSize=10&isIgnoreAuth=false&lctgrNo=1001369&leafCtgrNo=0&groupProductNo=0&groupFirstViewPrdNo=0&selNo=16674487#this'\n",
    "    stars_int = []\n",
    "    url = base_url.format(pnum+1)\n",
    "    response = requests.get(url)\n",
    "    \n",
    "    html = response.text\n",
    "    \n",
    "    soup1 = BeautifulSoup(html,\"lxml\")\n",
    "    reviews = soup1.find_all(id = \"reviewContTxt\")\n",
    "    p = re.compile('^selr_star selr_star')\n",
    "    stars = [int(x.text[-2]) for x in soup1.find_all('span', class_ = p)]\n",
    "    stars_int.extend(stars)\n",
    "    print('{0}page까지 완료'.format(pnum+1))\n",
    "    return stars_int"
   ]
  },
  {
   "cell_type": "code",
   "execution_count": 7,
   "metadata": {},
   "outputs": [
    {
     "ename": "NameError",
     "evalue": "name 'pnum' is not defined",
     "output_type": "error",
     "traceback": [
      "\u001b[1;31m---------------------------------------------------------------------------\u001b[0m",
      "\u001b[1;31mNameError\u001b[0m                                 Traceback (most recent call last)",
      "\u001b[1;32m<ipython-input-7-915f0a38ff99>\u001b[0m in \u001b[0;36m<module>\u001b[1;34m()\u001b[0m\n\u001b[0;32m      1\u001b[0m \u001b[0mbase_url\u001b[0m \u001b[1;33m=\u001b[0m \u001b[1;34m'http://deal.11st.co.kr/product/SellerProductDetail.tmall?method=getProductReviewList&prdNo=87595509&page={0}&pageTypCd=first&reviewDispYn=Y&isPreview=false&reviewOptDispYn=n&optSearchBtnAndGraphLayer=n&reviewBottomBtn=Y&openDetailContents=Y&pageSize=10&isIgnoreAuth=false&lctgrNo=1001369&leafCtgrNo=0&groupProductNo=0&groupFirstViewPrdNo=0&selNo=16674487#this'\u001b[0m\u001b[1;33m\u001b[0m\u001b[0m\n\u001b[0;32m      2\u001b[0m \u001b[0mstars_int\u001b[0m \u001b[1;33m=\u001b[0m \u001b[1;33m[\u001b[0m\u001b[1;33m]\u001b[0m\u001b[1;33m\u001b[0m\u001b[0m\n\u001b[1;32m----> 3\u001b[1;33m \u001b[0murl\u001b[0m \u001b[1;33m=\u001b[0m \u001b[0mbase_url\u001b[0m\u001b[1;33m.\u001b[0m\u001b[0mformat\u001b[0m\u001b[1;33m(\u001b[0m\u001b[0mpnum\u001b[0m\u001b[1;33m+\u001b[0m\u001b[1;36m1\u001b[0m\u001b[1;33m)\u001b[0m\u001b[1;33m\u001b[0m\u001b[0m\n\u001b[0m\u001b[0;32m      4\u001b[0m \u001b[0mresponse\u001b[0m \u001b[1;33m=\u001b[0m \u001b[0mrequests\u001b[0m\u001b[1;33m.\u001b[0m\u001b[0mget\u001b[0m\u001b[1;33m(\u001b[0m\u001b[0murl\u001b[0m\u001b[1;33m)\u001b[0m\u001b[1;33m\u001b[0m\u001b[0m\n\u001b[0;32m      5\u001b[0m \u001b[1;33m\u001b[0m\u001b[0m\n",
      "\u001b[1;31mNameError\u001b[0m: name 'pnum' is not defined"
     ]
    }
   ],
   "source": [
    "base_url = 'http://deal.11st.co.kr/product/SellerProductDetail.tmall?method=getProductReviewList&prdNo=87595509&page={0}&pageTypCd=first&reviewDispYn=Y&isPreview=false&reviewOptDispYn=n&optSearchBtnAndGraphLayer=n&reviewBottomBtn=Y&openDetailContents=Y&pageSize=10&isIgnoreAuth=false&lctgrNo=1001369&leafCtgrNo=0&groupProductNo=0&groupFirstViewPrdNo=0&selNo=16674487#this'\n",
    "stars_int = []\n",
    "url = base_url.format(pnum+1)\n",
    "response = requests.get(url)\n",
    "    \n",
    "html = response.text"
   ]
  },
  {
   "cell_type": "code",
   "execution_count": 4,
   "metadata": {},
   "outputs": [
    {
     "ename": "NameError",
     "evalue": "name 'time' is not defined",
     "output_type": "error",
     "traceback": [
      "\u001b[1;31m---------------------------------------------------------------------------\u001b[0m",
      "\u001b[1;31mNameError\u001b[0m                                 Traceback (most recent call last)",
      "\u001b[1;32m<ipython-input-4-3822dee12d6c>\u001b[0m in \u001b[0;36m<module>\u001b[1;34m()\u001b[0m\n\u001b[1;32m----> 1\u001b[1;33m \u001b[0mst\u001b[0m \u001b[1;33m=\u001b[0m \u001b[0mtime\u001b[0m\u001b[1;33m.\u001b[0m\u001b[0mtime\u001b[0m\u001b[1;33m(\u001b[0m\u001b[1;33m)\u001b[0m\u001b[1;33m\u001b[0m\u001b[0m\n\u001b[0m\u001b[0;32m      2\u001b[0m \u001b[1;32mfor\u001b[0m \u001b[0mi\u001b[0m \u001b[1;32min\u001b[0m \u001b[0mrange\u001b[0m\u001b[1;33m(\u001b[0m\u001b[1;36m0\u001b[0m\u001b[1;33m,\u001b[0m\u001b[1;36m100\u001b[0m\u001b[1;33m)\u001b[0m\u001b[1;33m:\u001b[0m\u001b[1;33m\u001b[0m\u001b[0m\n\u001b[0;32m      3\u001b[0m     \u001b[0mget_stars\u001b[0m\u001b[1;33m(\u001b[0m\u001b[0mi\u001b[0m\u001b[1;33m)\u001b[0m\u001b[1;33m\u001b[0m\u001b[0m\n\u001b[0;32m      4\u001b[0m \u001b[0mt_spend\u001b[0m \u001b[1;33m=\u001b[0m \u001b[0mtime\u001b[0m\u001b[1;33m.\u001b[0m\u001b[0mtime\u001b[0m\u001b[1;33m(\u001b[0m\u001b[1;33m)\u001b[0m\u001b[1;33m-\u001b[0m\u001b[0mst\u001b[0m\u001b[1;33m\u001b[0m\u001b[0m\n\u001b[0;32m      5\u001b[0m \u001b[0mprint\u001b[0m\u001b[1;33m(\u001b[0m\u001b[1;34m'그냥 실행 : '\u001b[0m\u001b[1;33m,\u001b[0m\u001b[0mt_spend\u001b[0m\u001b[1;33m)\u001b[0m\u001b[1;33m\u001b[0m\u001b[0m\n",
      "\u001b[1;31mNameError\u001b[0m: name 'time' is not defined"
     ]
    }
   ],
   "source": [
    "st = time.time()\n",
    "for i in range(0,100):\n",
    "    get_stars(i)\n",
    "t_spend = time.time()-st\n",
    "print('그냥 실행 : ',t_spend)"
   ]
  },
  {
   "cell_type": "code",
   "execution_count": 4,
   "metadata": {},
   "outputs": [
    {
     "name": "stdout",
     "output_type": "stream",
     "text": [
      "26page까지 완료\n",
      "22page까지 완료\n",
      "6page까지 완료\n",
      "18page까지 완료\n",
      "30page까지 완료\n",
      "10page까지 완료\n",
      "14page까지 완료\n",
      "2page까지 완료\n",
      "27page까지 완료\n",
      "7page까지 완료\n",
      "23page까지 완료\n",
      "31page까지 완료\n",
      "19page까지 완료\n",
      "3page까지 완료\n",
      "11page까지 완료\n",
      "15page까지 완료\n",
      "28page까지 완료\n",
      "8page까지 완료\n",
      "32page까지 완료\n",
      "20page까지 완료\n",
      "24page까지 완료\n",
      "4page까지 완료\n",
      "21page까지 완료\n",
      "29page까지 완료\n",
      "33page까지 완료\n",
      "9page까지 완료\n",
      "12page까지 완료\n",
      "25page까지 완료\n",
      "16page까지 완료\n",
      "34page까지 완료\n",
      "38page까지 완료\n",
      "42page까지 완료\n",
      "46page까지 완료\n",
      "50page까지 완료\n",
      "35page까지 완료\n",
      "5page까지 완료\n",
      "43page까지 완료\n",
      "17page까지 완료\n",
      "47page까지 완료\n",
      "13page까지 완료\n",
      "39page까지 완료\n",
      "51page까지 완료\n",
      "58page까지 완료\n",
      "48page까지 완료\n",
      "36page까지 완료\n",
      "40page까지 완료\n",
      "54page까지 완료\n",
      "44page까지 완료\n",
      "62page까지 완료\n",
      "52page까지 완료\n",
      "49page까지 완료\n",
      "45page까지 완료\n",
      "37page까지 완료\n",
      "55page까지 완료\n",
      "41page까지 완료\n",
      "59page까지 완료\n",
      "63page까지 완료\n",
      "53page까지 완료\n",
      "66page까지 완료\n",
      "70page까지 완료\n",
      "74page까지 완료\n",
      "56page까지 완료\n",
      "78page까지 완료\n",
      "60page까지 완료\n",
      "82page까지 완료\n",
      "64page까지 완료\n",
      "57page까지 완료\n",
      "75page까지 완료\n",
      "67page까지 완료\n",
      "71page까지 완료\n",
      "79page까지 완료\n",
      "61page까지 완료\n",
      "83page까지 완료\n",
      "65page까지 완료\n",
      "80page까지 완료\n",
      "72page까지 완료\n",
      "86page까지 완료\n",
      "76page까지 완료\n",
      "68page까지 완료\n",
      "90page까지 완료\n",
      "94page까지 완료\n",
      "84page까지 완료\n",
      "77page까지 완료\n",
      "87page까지 완료\n",
      "81page까지 완료\n",
      "73page까지 완료\n",
      "69page까지 완료\n",
      "95page까지 완료\n",
      "85page까지 완료\n",
      "98page까지 완료\n",
      "91page까지 완료\n",
      "88page까지 완료\n",
      "89page까지 완료\n",
      "96page까지 완료\n",
      "92page까지 완료\n",
      "99page까지 완료\n",
      "93page까지 완료\n",
      "100page까지 완료\n",
      "97page까지 완료\n",
      "101page까지 완료\n",
      "멀티 프로세싱 시 :  2.5908610820770264\n"
     ]
    }
   ],
   "source": [
    "st_mul = time.time()\n",
    "p = Pool(processes=8)\n",
    "p.map(get_stars,list(range(1,101)))\n",
    "t_spend_mul = time.time()-st_mul\n",
    "print('멀티 프로세싱 시 : ',t_spend_mul)"
   ]
  },
  {
   "cell_type": "code",
   "execution_count": 6,
   "metadata": {},
   "outputs": [
    {
     "name": "stdout",
     "output_type": "stream",
     "text": [
      "4.253333333333333\n"
     ]
    }
   ],
   "source": [
    "import math\n",
    "\n",
    "print(sum(stars_int)/len(stars_int))"
   ]
  },
  {
   "cell_type": "code",
   "execution_count": null,
   "metadata": {
    "collapsed": true
   },
   "outputs": [],
   "source": []
  }
 ],
 "metadata": {
  "kernelspec": {
   "display_name": "Python 3",
   "language": "python",
   "name": "python3"
  },
  "language_info": {
   "codemirror_mode": {
    "name": "ipython",
    "version": 3
   },
   "file_extension": ".py",
   "mimetype": "text/x-python",
   "name": "python",
   "nbconvert_exporter": "python",
   "pygments_lexer": "ipython3",
   "version": "3.6.5"
  }
 },
 "nbformat": 4,
 "nbformat_minor": 2
}
