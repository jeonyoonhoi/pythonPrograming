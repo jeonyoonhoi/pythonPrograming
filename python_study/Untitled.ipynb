{
 "cells": [
  {
   "cell_type": "markdown",
   "metadata": {},
   "source": [
    "[점프투파이썬] 모듈\n",
    "\n",
    "https://wikidocs.net/29\n",
    "\n",
    "모듈이란 함수나 변소 또는 클래스 들을 모아 놓은 파일이다. 모듈은 다른 파이썬 프로그램에서 불러와 사용할 수 있게끔 만들어진 파이썬 파일이라고도 할 수 있다. 우리는 파이썬으로 프로그래밍을 할 때 굉장히 많은 모듈을 사용한다. \n",
    "\n",
    "\n",
    "\n",
    "1. 모듈 만들고 불러오기\n",
    "\n",
    "- import 는 현재 디렉터리에 있는 파일이나 파이썬 라이브러리가 저장된 디렉터리에 있는 모듈만 불러올 수 있닫. \n",
    "- import 모듈명(mod.py = 에서 확장자 빼고)\n",
    "\n",
    "\n",
    "\n",
    "- 모듈 안의 함수에는 '.' (도트연산자() 를 이용해서 접근, \n",
    "- import mod.sum(a,b)\n",
    "\n",
    "    # 그냥 import 할 때는 . 을 사용해서 함수에 접근\n",
    "    import mod1\n",
    "    mode1.safe_sum(3,4)\n",
    "\n",
    "    # 특정 함수만 불러올 수 있다. \n",
    "    \n",
    "    from mod1 import safe_sum\n",
    "    safe_sum(3,4)\n",
    "\n",
    "    # mod1 의 sum, safe_sum 이라는 함수를 불러온다. \n",
    "    \n",
    "    from mod1 import sum, safe_sum\n",
    "\n",
    "    # mod1 안의 모든 함수를 불러온다. \n",
    "    \n",
    "    from mod1 import *\n",
    "\n",
    "\n",
    "\n",
    "                                                                                                                                                                                                                                                                                                                                                                                                                                                                                                                                                                                                                                                                                                                                                                                                                                                                                                                                                                                                                                                                                                                                                                                                                                                                                                                                                                                                                                                                                                                                                                                                                                                                                                                                                                                                                                                                                                                                                                                                                                                                                                                                                                                                                                                                                                                                                                                                                                                                                                                                                                                                                                                                                                  \n",
    "\n",
    "\n",
    "\n",
    "2. if _ _ name _ _  == \"_ _ main _ _\"의 의미\n",
    "\n",
    "\n",
    "\n",
    "\n",
    "\n",
    "3. 클래스나 변수 등을 포함한 모듈\n",
    "\n",
    "\n",
    "\n",
    "\n",
    "\n",
    "4. 새 파일 안에서 이전에 만든 모듈 불러오기\n",
    "\n",
    "\n",
    "\n",
    "\n",
    "\n",
    "5. 연습문제 \n"
   ]
  },
  {
   "cell_type": "code",
   "execution_count": 2,
   "metadata": {
    "scrolled": true
   },
   "outputs": [
    {
     "name": "stdout",
     "output_type": "stream",
     "text": [
      " 더할 수 있는 것이 아닙니다.\n",
      "None\n",
      "5\n",
      "20.4\n"
     ]
    }
   ],
   "source": [
    "#  mod1.py\n",
    "\n",
    "def sum(a,b):\n",
    "    return a+b\n",
    "\n",
    "def safe_sum(a,b):\n",
    "    if type(a) != type(b):\n",
    "        print(\" 더할 수 있는 것이 아닙니다.\")\n",
    "        return\n",
    "    else:\n",
    "        result = sum(a,b)\n",
    "    return result\n",
    "\n",
    "print(safe_sum('a',1))\n",
    "print(safe_sum(1,4))\n",
    "print(sum(10,10.4))\n"
   ]
  },
  {
   "cell_type": "code",
   "execution_count": 4,
   "metadata": {},
   "outputs": [],
   "source": [
    "# mod2.py\n",
    "\n",
    "PI = 3.141592\n",
    "\n",
    "class Math : \n",
    "    def solv(self,r):\n",
    "        return PI* (r**2)\n",
    "\n",
    "def sum(a,b):\n",
    "    return a+b\n",
    "\n",
    "if __name__ == \" __main__\" : \n",
    "    print(PI)\n",
    "    a = Math()\n",
    "    print(a.solv(2))\n",
    "    print(sum(PI,4.4))\n",
    "    "
   ]
  },
  {
   "cell_type": "code",
   "execution_count": 6,
   "metadata": {
    "scrolled": false
   },
   "outputs": [
    {
     "data": {
      "text/plain": [
       "['',\n",
       " 'C:\\\\Users\\\\YOONHOI\\\\Anaconda3\\\\python36.zip',\n",
       " 'C:\\\\Users\\\\YOONHOI\\\\Anaconda3\\\\DLLs',\n",
       " 'C:\\\\Users\\\\YOONHOI\\\\Anaconda3\\\\lib',\n",
       " 'C:\\\\Users\\\\YOONHOI\\\\Anaconda3',\n",
       " 'C:\\\\Users\\\\YOONHOI\\\\Anaconda3\\\\lib\\\\site-packages',\n",
       " 'C:\\\\Users\\\\YOONHOI\\\\Anaconda3\\\\lib\\\\site-packages\\\\win32',\n",
       " 'C:\\\\Users\\\\YOONHOI\\\\Anaconda3\\\\lib\\\\site-packages\\\\win32\\\\lib',\n",
       " 'C:\\\\Users\\\\YOONHOI\\\\Anaconda3\\\\lib\\\\site-packages\\\\Pythonwin',\n",
       " 'C:\\\\Users\\\\YOONHOI\\\\Anaconda3\\\\lib\\\\site-packages\\\\IPython\\\\extensions',\n",
       " 'C:\\\\Users\\\\YOONHOI\\\\.ipython']"
      ]
     },
     "execution_count": 6,
     "metadata": {},
     "output_type": "execute_result"
    }
   ],
   "source": [
    "import sys\n",
    "sys.path"
   ]
  },
  {
   "cell_type": "code",
   "execution_count": 10,
   "metadata": {},
   "outputs": [],
   "source": [
    "#mymod.py\n",
    "\n",
    "def mysum(a,b):\n",
    "    return a+b\n",
    "    "
   ]
  },
  {
   "cell_type": "code",
   "execution_count": null,
   "metadata": {
    "scrolled": false
   },
   "outputs": [
    {
     "name": "stdout",
     "output_type": "stream",
     "text": [
      "입력 : 100\n",
      "100\n",
      "입력 : 100\n"
     ]
    }
   ],
   "source": [
    "while True:\n",
    "    x = int(input(\"입력 : \"))\n",
    "    if x  == 100 : \n",
    "        print(\"100\")\n",
    "    else : \n",
    "        print(\"100 X\")\n",
    "        \n",
    "    if x == "
   ]
  },
  {
   "cell_type": "code",
   "execution_count": 2,
   "metadata": {},
   "outputs": [
    {
     "ename": "NameError",
     "evalue": "name 'X' is not defined",
     "output_type": "error",
     "traceback": [
      "\u001b[1;31m---------------------------------------------------------------------------\u001b[0m",
      "\u001b[1;31mNameError\u001b[0m                                 Traceback (most recent call last)",
      "\u001b[1;32m<ipython-input-2-fa0134f942c4>\u001b[0m in \u001b[0;36m<module>\u001b[1;34m()\u001b[0m\n\u001b[1;32m----> 1\u001b[1;33m \u001b[0mprint\u001b[0m\u001b[1;33m(\u001b[0m\u001b[0mX\u001b[0m\u001b[1;33m)\u001b[0m\u001b[1;33m\u001b[0m\u001b[0m\n\u001b[0m",
      "\u001b[1;31mNameError\u001b[0m: name 'X' is not defined"
     ]
    }
   ],
   "source": [
    "print(X)"
   ]
  },
  {
   "cell_type": "code",
   "execution_count": null,
   "metadata": {},
   "outputs": [],
   "source": []
  }
 ],
 "metadata": {
  "kernelspec": {
   "display_name": "Python 3",
   "language": "python",
   "name": "python3"
  },
  "language_info": {
   "codemirror_mode": {
    "name": "ipython",
    "version": 3
   },
   "file_extension": ".py",
   "mimetype": "text/x-python",
   "name": "python",
   "nbconvert_exporter": "python",
   "pygments_lexer": "ipython3",
   "version": "3.6.5"
  }
 },
 "nbformat": 4,
 "nbformat_minor": 2
}
